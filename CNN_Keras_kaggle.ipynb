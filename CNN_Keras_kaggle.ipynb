{
  "cells": [
    {
      "metadata": {
        "_uuid": "bc1fb5d4712d8412065ffdc8a3e720a61b0ed639"
      },
      "cell_type": "markdown",
      "source": "### A Simple CNN implementation using Keras\nUsed only the very necessary commands for excecuting the network. \nAchived above 90% accuracy using the simple model. Run for more than 5 epochs to get the accuracy."
    },
    {
      "metadata": {
        "_uuid": "8f2839f25d086af736a60e9eeb907d3b93b6e0e5",
        "_cell_guid": "b1076dfc-b9ad-4769-8c92-a6c4dae69d19",
        "trusted": true
      },
      "cell_type": "code",
      "source": "# This Python 3 environment comes with many helpful analytics libraries installed\n# It is defined by the kaggle/python docker image: https://github.com/kaggle/docker-python\n# For example, here's several helpful packages to load in \n\nimport numpy as np # linear algebra\nimport pandas as pd # data processing, CSV file I/O (e.g. pd.read_csv)\n\nfrom sklearn.metrics import confusion_matrix\nimport numpy as np\n\nfrom keras.layers import Lambda, Dense, Activation, Conv2D, MaxPooling2D, Flatten, Dropout, BatchNormalization, Input, GlobalAveragePooling2D\n\nfrom keras.models import Model\nfrom keras.applications.vgg16 import VGG16\nfrom keras.applications.vgg16 import preprocess_input\nfrom keras.preprocessing import image\nfrom keras.preprocessing.image import ImageDataGenerator\n\nfrom glob import glob\n\n# Input data files are available in the \"../input/\" directory.\n# For example, running this (by clicking run or pressing Shift+Enter) will list the files in the input directory\n\nimport os\nprint(os.listdir(\"../input\"))\n\n# Any results you write to the current directory are saved as output.",
      "execution_count": 9,
      "outputs": [
        {
          "output_type": "stream",
          "text": "['fruits-360_dataset']\n",
          "name": "stdout"
        }
      ]
    },
    {
      "metadata": {
        "_cell_guid": "79c7e3d0-c299-4dcb-8224-4455121ee9b0",
        "_uuid": "d629ff2d2480ee46fbb7e2d37f6b5fab8052498a",
        "trusted": true
      },
      "cell_type": "code",
      "source": "!ls ../input/fruits-360_dataset/fruits-360\n#Explore the files by changing folder names in above code",
      "execution_count": 10,
      "outputs": [
        {
          "output_type": "stream",
          "text": "LICENSE  Test  Training  papers  readme.md  test-multiple_fruits\r\n",
          "name": "stdout"
        }
      ]
    },
    {
      "metadata": {
        "trusted": true,
        "_uuid": "d045832d6b49e23b7c5a1a90bf063ed000b2977f"
      },
      "cell_type": "code",
      "source": "train_path = '../input/fruits-360_dataset/fruits-360/Training'\ntest_path = '../input/fruits-360_dataset/fruits-360/Test'",
      "execution_count": 11,
      "outputs": []
    },
    {
      "metadata": {
        "trusted": true,
        "_uuid": "5d4eb0350aed1e24ab28224b5875bb8aba360d8c"
      },
      "cell_type": "code",
      "source": "#Just to disply the a roandom image. \nimage_files = glob(train_path + '/*/*.jp*g')\nimport matplotlib.pyplot as plt\n# look at an image for fun\nplt.imshow(image.load_img(np.random.choice(image_files)))\nplt.show()",
      "execution_count": 12,
      "outputs": [
        {
          "output_type": "display_data",
          "data": {
            "text/plain": "<Figure size 432x288 with 1 Axes>",
            "image/png": "[encoded data removed]"
          },
          "metadata": {}
        }
      ]
    },
    {
      "metadata": {
        "trusted": true,
        "_uuid": "46f050107e5faf0bc2037cdce213d060ced22d1f"
      },
      "cell_type": "code",
      "source": "# The database is gettting updated very frequently. So better keep a code to find the number of classes.\nfolders = glob(train_path + '/*')\nlen(folders)",
      "execution_count": 13,
      "outputs": [
        {
          "output_type": "execute_result",
          "execution_count": 13,
          "data": {
            "text/plain": "92"
          },
          "metadata": {}
        }
      ]
    },
    {
      "metadata": {
        "trusted": true,
        "_uuid": "8302756e3eba7dde1989facd09bfee4452c37554"
      },
      "cell_type": "code",
      "source": "IMAGE_SIZE = [100, 100] \n\n# training config:\nepochs = 5\nbatch_size = 32",
      "execution_count": 14,
      "outputs": []
    },
    {
      "metadata": {
        "_uuid": "c4d1e13a698c48266150409a251fb5fdb5bd4aa4"
      },
      "cell_type": "markdown",
      "source": "### Used keras Model (functional API) for building the model (not sequential). \nhttps://keras.io/models/model/"
    },
    {
      "metadata": {
        "trusted": true,
        "_uuid": "61a0f775f9a3e3dfdc63c4c150c7fe46c940a073"
      },
      "cell_type": "code",
      "source": "# A very simple convolutional NN using keras, Batch Normalisation is used\ninp = Input(shape=(100,100,3))\nx = Conv2D(128, (3, 3), padding='same')(inp)\nx =BatchNormalization()(x) \nx =Activation('relu')(x)\nx =MaxPooling2D(strides = (1,1))(x)\n\n\nx = Conv2D(64, (3, 3), padding='same')(x)\nx=BatchNormalization()(x)\nx=Activation('relu')(x)\nx=MaxPooling2D(strides = (1,1))(x)\n\n# Global average pooling is said to be better than Flatten\nx= GlobalAveragePooling2D()(x)\n\n\nx= Dense(2000, activation = 'relu')(x)\nx= Dropout(0.5, noise_shape=None, seed=None)(x)\n\nx= Dense(250, activation = 'relu')(x)\nx= Dropout(0.3, noise_shape=None, seed=None)(x)\nout = Dense(len(folders),activation = 'softmax')(x)\n\nmodel = Model(inp,out )\nmodel.summary()",
      "execution_count": 15,
      "outputs": [
        {
          "output_type": "stream",
          "text": "_________________________________________________________________\nLayer (type)                 Output Shape              Param #   \n=================================================================\ninput_2 (InputLayer)         (None, 100, 100, 3)       0         \n_________________________________________________________________\nconv2d_3 (Conv2D)            (None, 100, 100, 128)     3584      \n_________________________________________________________________\nbatch_normalization_3 (Batch (None, 100, 100, 128)     512       \n_________________________________________________________________\nactivation_3 (Activation)    (None, 100, 100, 128)     0         \n_________________________________________________________________\nmax_pooling2d_3 (MaxPooling2 (None, 99, 99, 128)       0         \n_________________________________________________________________\nconv2d_4 (Conv2D)            (None, 99, 99, 64)        73792     \n_________________________________________________________________\nbatch_normalization_4 (Batch (None, 99, 99, 64)        256       \n_________________________________________________________________\nactivation_4 (Activation)    (None, 99, 99, 64)        0         \n_________________________________________________________________\nmax_pooling2d_4 (MaxPooling2 (None, 98, 98, 64)        0         \n_________________________________________________________________\nglobal_average_pooling2d_2 ( (None, 64)                0         \n_________________________________________________________________\ndense_4 (Dense)              (None, 2000)              130000    \n_________________________________________________________________\ndropout_3 (Dropout)          (None, 2000)              0         \n_________________________________________________________________\ndense_5 (Dense)              (None, 250)               500250    \n_________________________________________________________________\ndropout_4 (Dropout)          (None, 250)               0         \n_________________________________________________________________\ndense_6 (Dense)              (None, 92)                23092     \n=================================================================\nTotal params: 731,486\nTrainable params: 731,102\nNon-trainable params: 384\n_________________________________________________________________\n",
          "name": "stdout"
        }
      ]
    },
    {
      "metadata": {
        "trusted": true,
        "_uuid": "725c8488b657a38654589aa7f35cff3db765ece0"
      },
      "cell_type": "code",
      "source": "#compile the model\nmodel.compile(loss = 'categorical_crossentropy',\n             optimizer = 'Adam',\n             metrics = ['accuracy'])",
      "execution_count": 16,
      "outputs": []
    },
    {
      "metadata": {
        "_uuid": "f01793a27d87bfae608c4c33a890173716cef1a9"
      },
      "cell_type": "markdown",
      "source": "### Generate batches of tensor image data with real-time data augmentation. The data will be looped over (in batches).\nhttps://keras.io/preprocessing/image/"
    },
    {
      "metadata": {
        "trusted": true,
        "_uuid": "2a0578cfc31001f92dbd32e89663f768781d692a"
      },
      "cell_type": "code",
      "source": "#Image generator augments image. Here its also used for train, validation split.\ndatagen = ImageDataGenerator(rotation_range = 20,\n                              width_shift_range=0.1,\n                              height_shift_range=0.1,\n                              shear_range=0.1,\n                              zoom_range=0.2,\n                              horizontal_flip=True,\n                              vertical_flip=True,\n                              #preprocessing_function=preprocess_input,\n                              validation_split=0.2,\n)",
      "execution_count": null,
      "outputs": []
    },
    {
      "metadata": {
        "_uuid": "7f8097de2264aa601cef1c559852bf50dc26caf4"
      },
      "cell_type": "markdown",
      "source": "### Flow from directory can be used for datasets of this format.  Images are given in seperate folders which represents different classes\nhttps://keras.io/preprocessing/image/#flow_from_directory"
    },
    {
      "metadata": {
        "trusted": true,
        "_uuid": "efaaa85a6b935a680a78c53eeb0fc22e47cfeb65",
        "scrolled": true
      },
      "cell_type": "code",
      "source": "#Image generator is used to call images using flow from directory. the images are given in format \n#suited for flow_from_directory. Images are given in seperate folders which represents different classes\ntrain_generator = datagen.flow_from_directory(train_path,\n                                             target_size = IMAGE_SIZE,\n                                             shuffle = 'True',\n                                             subset = 'training',\n                                             batch_size = batch_size,\n                                             class_mode = 'categorical')\nvalid_generator = datagen.flow_from_directory(train_path,\n                                             target_size = IMAGE_SIZE,\n                                             shuffle = 'True',\n                                             batch_size = 32,\n                                             class_mode = 'categorical',\n                                             subset = 'validation'\n                                             )",
      "execution_count": null,
      "outputs": []
    },
    {
      "metadata": {
        "trusted": true,
        "_uuid": "6fa15b1f77c05a2c34ab98de31b87d37da4b626c"
      },
      "cell_type": "code",
      "source": "#generator function to fit the model in batches. Run the model for more than 5 epochs \n#to get results above 90\nmodel.fit_generator(train_generator,\n                   validation_data = valid_generator,\n                    epochs = epochs,\n                    steps_per_epoch = train_generator.n // batch_size,\n                    validation_steps = valid_generator.n //batch_size,\n                    )",
      "execution_count": null,
      "outputs": []
    },
    {
      "metadata": {
        "trusted": true,
        "_uuid": "56d35128476c29654102d8b3221acf646fb3fb1a"
      },
      "cell_type": "code",
      "source": "#Test data are not augmented\ntest_datagen = ImageDataGenerator(rotation_range = 0,\n                              width_shift_range=0.0,\n                              height_shift_range=0.0,\n                              shear_range=0.0,\n                              zoom_range=0.0,\n                              horizontal_flip=False,\n                              vertical_flip=False,\n                              #preprocessing_function=preprocess_input,\n                              )",
      "execution_count": null,
      "outputs": []
    },
    {
      "metadata": {
        "trusted": true,
        "_uuid": "926e02c7f09fe48d1d886a0f1d3f98e108e47227"
      },
      "cell_type": "code",
      "source": "#Test \ntest_generator = test_datagen.flow_from_directory(test_path,\n                                                 target_size = IMAGE_SIZE,\n                                                 shuffle = 'False',\n                                                 batch_size = 32,\n                                                 class_mode = 'categorical',)",
      "execution_count": null,
      "outputs": []
    },
    {
      "metadata": {
        "trusted": true,
        "_uuid": "2878b18b22437aabedffac57a2920608d2bd6f71"
      },
      "cell_type": "code",
      "source": "#Evaluate\nmodel.evaluate_generator(test_generator, steps=None, max_queue_size=10, workers=1, use_multiprocessing=False, verbose=1)",
      "execution_count": null,
      "outputs": []
    },
    {
      "metadata": {
        "trusted": true,
        "_uuid": "d57ac92624c3ee1fc51fab731ee8848b318cd324"
      },
      "cell_type": "code",
      "source": "model.metrics_names",
      "execution_count": null,
      "outputs": []
    },
    {
      "metadata": {
        "trusted": true,
        "_uuid": "486da1c19b8bb4ea56e63cb331f0b927cec34f6e"
      },
      "cell_type": "code",
      "source": "",
      "execution_count": null,
      "outputs": []
    }
  ],
  "metadata": {
    "kernelspec": {
      "display_name": "Python 3",
      "language": "python",
      "name": "python3"
    },
    "language_info": {
      "name": "python",
      "version": "3.6.6",
      "mimetype": "text/x-python",
      "codemirror_mode": {
        "name": "ipython",
        "version": 3
      },
      "pygments_lexer": "ipython3",
      "nbconvert_exporter": "python",
      "file_extension": ".py"
    }
  },
  "nbformat": 4,
  "nbformat_minor": 1
}